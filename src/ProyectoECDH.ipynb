{
 "cells": [
  {
   "cell_type": "markdown",
   "id": "0574ce1a",
   "metadata": {},
   "source": [
    "# Implementación de firma digital con Curva Elíptica y protocolo Diffie-Hellman"
   ]
  },
  {
   "cell_type": "markdown",
   "id": "e8be0bdf",
   "metadata": {},
   "source": [
    "$y^2 \\equiv x^3 + 2x + 2  (mod 17)$\n",
    "## Para doblar punto:\n",
    "$\\lambda = \\frac{3x_{G}^2 + a}{2y_{G}}$\n",
    "$\\newline$\n",
    "$x_{2G} = \\lambda - 2x_{G} $\n",
    "$\\newline$\n",
    "$y_{2G} = \\lambda(x_{G}-x_{2G}) - y_{G}$\n",
    "## Para sumar puntos:\n",
    "$\\lambda = \\frac{y_{2}-y{1}}{x_{2}-x_{1}}$\n",
    "$\\newline$\n",
    "$x_{3} = \\lambda^{2}-x_{1}-x_{2}$\n",
    "$\\newline$\n",
    "$y_{3} = \\lambda(x_{1} - x_{3}) - y_{1}$"
   ]
  },
  {
   "cell_type": "code",
   "execution_count": 242,
   "id": "905166ef",
   "metadata": {},
   "outputs": [],
   "source": [
    "using OrderedCollections"
   ]
  },
  {
   "cell_type": "code",
   "execution_count": 243,
   "id": "1668c5b0",
   "metadata": {},
   "outputs": [],
   "source": [
    "#=\n",
    "Código para generar el grupo cíclico de los enteros módulo un primo\n",
    "=#\n",
    "dict_x = Dict()\n",
    "dict_y = Dict()\n",
    "lis = []\n",
    "puntos = ()\n",
    "\n",
    "for i in 0:16\n",
    "   \n",
    "    #print(i)\n",
    "    dict_y[i] = (i^2) % 17#𝑦²\n",
    "    dict_x[i] = ((i^3) + (2*i) + 2) % 17#𝑥³+2𝑥+2\n",
    "   \n",
    "end\n"
   ]
  },
  {
   "cell_type": "code",
   "execution_count": 244,
   "id": "cbdfd805",
   "metadata": {},
   "outputs": [
    {
     "data": {
      "text/plain": [
       "Dict{Any, Any} with 17 entries:\n",
       "  5  => 1\n",
       "  16 => 16\n",
       "  12 => 3\n",
       "  8  => 3\n",
       "  1  => 5\n",
       "  0  => 2\n",
       "  6  => 9\n",
       "  11 => 12\n",
       "  9  => 1\n",
       "  14 => 3\n",
       "  3  => 1\n",
       "  7  => 2\n",
       "  4  => 6\n",
       "  13 => 15\n",
       "  15 => 7\n",
       "  2  => 14\n",
       "  10 => 2"
      ]
     },
     "execution_count": 244,
     "metadata": {},
     "output_type": "execute_result"
    }
   ],
   "source": [
    "dict_x"
   ]
  },
  {
   "cell_type": "code",
   "execution_count": 245,
   "id": "9aaf9d8a",
   "metadata": {},
   "outputs": [
    {
     "data": {
      "text/plain": [
       "Dict{Any, Any} with 17 entries:\n",
       "  5  => 8\n",
       "  16 => 1\n",
       "  12 => 8\n",
       "  8  => 13\n",
       "  1  => 1\n",
       "  0  => 0\n",
       "  6  => 2\n",
       "  11 => 2\n",
       "  9  => 13\n",
       "  14 => 9\n",
       "  3  => 9\n",
       "  7  => 15\n",
       "  4  => 16\n",
       "  13 => 16\n",
       "  15 => 4\n",
       "  2  => 4\n",
       "  10 => 15"
      ]
     },
     "execution_count": 245,
     "metadata": {},
     "output_type": "execute_result"
    }
   ],
   "source": [
    "dict_y "
   ]
  },
  {
   "cell_type": "code",
   "execution_count": 246,
   "id": "3c82483d",
   "metadata": {},
   "outputs": [
    {
     "data": {
      "text/plain": [
       "OrderedDict{Any, Any} with 17 entries:\n",
       "  0  => 2\n",
       "  1  => 5\n",
       "  2  => 14\n",
       "  3  => 1\n",
       "  4  => 6\n",
       "  5  => 1\n",
       "  6  => 9\n",
       "  7  => 2\n",
       "  8  => 3\n",
       "  9  => 1\n",
       "  10 => 2\n",
       "  11 => 12\n",
       "  12 => 3\n",
       "  13 => 15\n",
       "  14 => 3\n",
       "  15 => 7\n",
       "  16 => 16"
      ]
     },
     "execution_count": 246,
     "metadata": {},
     "output_type": "execute_result"
    }
   ],
   "source": [
    "ord_x = sort(dict_x)#Acomodar el diccionario por orden numérico"
   ]
  },
  {
   "cell_type": "code",
   "execution_count": 247,
   "id": "f3835ce1",
   "metadata": {},
   "outputs": [
    {
     "data": {
      "text/plain": [
       "OrderedDict{Any, Any} with 17 entries:\n",
       "  0  => 0\n",
       "  1  => 1\n",
       "  2  => 4\n",
       "  3  => 9\n",
       "  4  => 16\n",
       "  5  => 8\n",
       "  6  => 2\n",
       "  7  => 15\n",
       "  8  => 13\n",
       "  9  => 13\n",
       "  10 => 15\n",
       "  11 => 2\n",
       "  12 => 8\n",
       "  13 => 16\n",
       "  14 => 9\n",
       "  15 => 4\n",
       "  16 => 1"
      ]
     },
     "execution_count": 247,
     "metadata": {},
     "output_type": "execute_result"
    }
   ],
   "source": [
    "ord_y = sort(dict_y)#Acomodar el diccionario por orden numérico"
   ]
  },
  {
   "cell_type": "code",
   "execution_count": 248,
   "id": "35cd5a2f",
   "metadata": {},
   "outputs": [
    {
     "data": {
      "text/plain": [
       "18-element Vector{Tuple{Int64, Int64}}:\n",
       " (3, 1)\n",
       " (5, 1)\n",
       " (9, 1)\n",
       " (6, 3)\n",
       " (16, 4)\n",
       " (0, 6)\n",
       " (7, 6)\n",
       " (10, 6)\n",
       " (13, 7)\n",
       " (13, 10)\n",
       " (0, 11)\n",
       " (7, 11)\n",
       " (10, 11)\n",
       " (16, 13)\n",
       " (6, 14)\n",
       " (3, 16)\n",
       " (5, 16)\n",
       " (9, 16)"
      ]
     },
     "execution_count": 248,
     "metadata": {},
     "output_type": "execute_result"
    }
   ],
   "source": [
    "lis = [(i,j) for i in  keys(ord_x), j in keys(ord_y) if  ord_x[i] == ord_y[j]]"
   ]
  },
  {
   "cell_type": "code",
   "execution_count": 249,
   "id": "4b6c6643",
   "metadata": {},
   "outputs": [
    {
     "data": {
      "text/plain": [
       "mult_2 (generic function with 1 method)"
      ]
     },
     "execution_count": 249,
     "metadata": {},
     "output_type": "execute_result"
    }
   ],
   "source": [
    "function suma_puntos(p1,p2)\n",
    "    \n",
    "    \n",
    "    #=\n",
    "    Función para calcular la suma de 2 puntos\n",
    "    𝜆=(𝑦2−𝑦1)/(𝑥2−𝑥1)\n",
    "    𝑥3=𝜆²−𝑥1−𝑥2\n",
    "    𝑦3=𝜆(𝑥1−𝑥3)−𝑦1\n",
    "    =#\n",
    "\n",
    "    suma = []\n",
    "    \n",
    "    x1 = p1[1]\n",
    "    x2 = p2[1]\n",
    "    y1 = p1[2]\n",
    "    y2 = p2[2]\n",
    "    \n",
    "     m = (y2 - y1)/(x2 - x1)\n",
    "    \n",
    "    x3 = 0\n",
    "    y3 = 0\n",
    "    \n",
    "    \n",
    "    if (isa(m,Int64))\n",
    "        \n",
    "        x3 = mod((m^2 - x1 - x2) ,17)\n",
    "        y3 =mod((m * (x1 - x3 ) - y1) , 17)\n",
    "        \n",
    "    else\n",
    "    \n",
    "        #=\n",
    "        Como el grupo tiene domino en los enteros positivos se implenta esta condición para calcular el \n",
    "        inverso multiplicativo modular y evitar números fraccionarios \n",
    "        =#\n",
    "        m =  mod((y2 - y1)*(invmod( x2 - x1 ,17) ) , 17)\n",
    "        x3 = mod((m^2 - x1 - x2) , 17)\n",
    "        y3 = mod((m * (x1 - x3 ) - y1) , 17)\n",
    "    \n",
    "    end\n",
    "    \n",
    "    suma = [(x3,y3)]\n",
    "    \n",
    "    return suma\n",
    "end\n",
    "\n",
    "function mult_2(punto)#OjO point es una tupla\n",
    "   \n",
    "    #print(\"$xG,$yG\")\n",
    "    \n",
    "    #=\n",
    "    Función para doblar 1 punto\n",
    "    𝜆=(3𝑥²𝐺+𝑎)/2𝑦𝐺\n",
    "    𝑥2𝐺=𝜆−2𝑥𝐺\n",
    "    𝑦2𝐺=𝜆(𝑥𝐺−𝑥2𝐺)−𝑦𝐺\n",
    "    \n",
    "    =#\n",
    "    \n",
    "    xG = punto[1]\n",
    "    yG = punto[2]\n",
    "    \n",
    "\n",
    "    gf = ()\n",
    "    my_list = []\n",
    "    \n",
    "    \n",
    "\n",
    "    \n",
    "    \n",
    "     m = (3 * xG ^ 2 + 2) / (2*yG)\n",
    "    \n",
    "    \n",
    "    if(isa(m, Int64))\n",
    "        \n",
    "        x2G = mod((m^2 - 2*xG) ,17)\n",
    "        y2G =mod((m * (xG - x2G ) - yG) , 17)\n",
    "    else\n",
    "        m = mod((3 * xG ^ 2 + 2)*(invmod(2 * yG,17) ),17)\n",
    "        x2G =mod((m^2 - 2*xG) , 17)\n",
    "        y2G =mod((m * (xG - x2G ) - yG) , 17)\n",
    "    end\n",
    "    \n",
    "    #gf  = x2G ,y2G\n",
    "    \n",
    "    #append!(my_list,x2G ,y2G)\n",
    "    \n",
    "    my_list = [(x2G ,y2G)]\n",
    "    \n",
    "    return my_list\n",
    "    \n",
    "end"
   ]
  },
  {
   "cell_type": "code",
   "execution_count": 250,
   "id": "ac9ded88",
   "metadata": {},
   "outputs": [
    {
     "data": {
      "text/plain": [
       "1-element Vector{Tuple{Int64, Int64}}:\n",
       " (6, 3)"
      ]
     },
     "execution_count": 250,
     "metadata": {},
     "output_type": "execute_result"
    }
   ],
   "source": [
    "mult_2(lis[2])\n",
    "#Duplicamos un punto tomado al azar el cual será el generador porque el orden del grupo de la curva es primo con el \n",
    "#punto infinito"
   ]
  },
  {
   "cell_type": "code",
   "execution_count": 251,
   "id": "f8f685b9",
   "metadata": {},
   "outputs": [
    {
     "data": {
      "text/plain": [
       "2-element Vector{Tuple{Int64, Int64}}:\n",
       " (5, 1)\n",
       " (6, 3)"
      ]
     },
     "execution_count": 251,
     "metadata": {},
     "output_type": "execute_result"
    }
   ],
   "source": [
    "lis_gf = [lis[2],mult_2(lis[2])[1]]"
   ]
  },
  {
   "cell_type": "code",
   "execution_count": 252,
   "id": "f0a660a3",
   "metadata": {},
   "outputs": [
    {
     "name": "stdout",
     "output_type": "stream",
     "text": [
      "(5, 1)(6, 3)"
     ]
    }
   ],
   "source": [
    "for i in 1:length(lis_gf)\n",
    "    \n",
    "        print(lis_gf[i])\n",
    "\n",
    "end"
   ]
  },
  {
   "cell_type": "code",
   "execution_count": 253,
   "id": "7df1eb28",
   "metadata": {},
   "outputs": [
    {
     "data": {
      "text/plain": [
       "2-element Vector{Tuple{Int64, Int64}}:\n",
       " (5, 1)\n",
       " (6, 3)"
      ]
     },
     "execution_count": 253,
     "metadata": {},
     "output_type": "execute_result"
    }
   ],
   "source": [
    "lis_gf"
   ]
  },
  {
   "cell_type": "code",
   "execution_count": 254,
   "id": "693e7b8d",
   "metadata": {},
   "outputs": [
    {
     "data": {
      "text/plain": [
       "1-element Vector{Tuple{Int64, Int64}}:\n",
       " (10, 6)"
      ]
     },
     "execution_count": 254,
     "metadata": {},
     "output_type": "execute_result"
    }
   ],
   "source": [
    "suma_puntos(lis_gf[1],lis_gf[2])"
   ]
  },
  {
   "cell_type": "code",
   "execution_count": 255,
   "id": "f0f1f0ad",
   "metadata": {},
   "outputs": [
    {
     "data": {
      "text/plain": [
       "(6, 3)"
      ]
     },
     "execution_count": 255,
     "metadata": {},
     "output_type": "execute_result"
    }
   ],
   "source": [
    "lis_gf[length(lis_gf)]"
   ]
  },
  {
   "cell_type": "code",
   "execution_count": 256,
   "id": "278729ff",
   "metadata": {},
   "outputs": [
    {
     "data": {
      "text/plain": [
       "2-element Vector{Tuple{Int64, Int64}}:\n",
       " (5, 1)\n",
       " (6, 3)"
      ]
     },
     "execution_count": 256,
     "metadata": {},
     "output_type": "execute_result"
    }
   ],
   "source": [
    "lis_gf"
   ]
  },
  {
   "cell_type": "code",
   "execution_count": 257,
   "id": "ea49d8b6",
   "metadata": {},
   "outputs": [
    {
     "data": {
      "text/plain": [
       "17"
      ]
     },
     "execution_count": 257,
     "metadata": {},
     "output_type": "execute_result"
    }
   ],
   "source": [
    "length(lis)-1"
   ]
  },
  {
   "cell_type": "code",
   "execution_count": 258,
   "id": "a3089fd5",
   "metadata": {},
   "outputs": [],
   "source": [
    "for i in 1:length(lis)-2\n",
    "  append!(lis_gf, suma_puntos(lis_gf[1],lis_gf[length(lis_gf)]))\n",
    "end\n",
    "    \n",
    "#=\n",
    "Con este ciclo cálculamos iterativamente los puntos del grupo cíclico sumando siempre el primer elemento del grupo \n",
    "siendo éste el generador sumándolo con el último punto calculado\n",
    "=#\n",
    "\n",
    "#lis_gf"
   ]
  },
  {
   "cell_type": "code",
   "execution_count": 259,
   "id": "176fc3cd",
   "metadata": {},
   "outputs": [
    {
     "data": {
      "text/plain": [
       "18-element Vector{Tuple{Int64, Int64}}:\n",
       " (5, 1)\n",
       " (6, 3)\n",
       " (10, 6)\n",
       " (3, 1)\n",
       " (9, 16)\n",
       " (16, 13)\n",
       " (0, 6)\n",
       " (13, 7)\n",
       " (7, 6)\n",
       " (7, 11)\n",
       " (13, 10)\n",
       " (0, 11)\n",
       " (16, 4)\n",
       " (9, 1)\n",
       " (3, 16)\n",
       " (10, 11)\n",
       " (6, 14)\n",
       " (5, 16)"
      ]
     },
     "execution_count": 259,
     "metadata": {},
     "output_type": "execute_result"
    }
   ],
   "source": [
    "lis_gf"
   ]
  },
  {
   "cell_type": "code",
   "execution_count": 260,
   "id": "61667ea3",
   "metadata": {},
   "outputs": [
    {
     "data": {
      "text/plain": [
       "18-element Vector{Tuple{Int64, Int64}}:\n",
       " (5, 1)\n",
       " (6, 3)\n",
       " (10, 6)\n",
       " (3, 1)\n",
       " (9, 16)\n",
       " (16, 13)\n",
       " (0, 6)\n",
       " (13, 7)\n",
       " (7, 6)\n",
       " (7, 11)\n",
       " (13, 10)\n",
       " (0, 11)\n",
       " (16, 4)\n",
       " (9, 1)\n",
       " (3, 16)\n",
       " (10, 11)\n",
       " (6, 14)\n",
       " (5, 16)"
      ]
     },
     "execution_count": 260,
     "metadata": {},
     "output_type": "execute_result"
    }
   ],
   "source": [
    "lis_gf"
   ]
  },
  {
   "cell_type": "code",
   "execution_count": 261,
   "id": "ab494ebc",
   "metadata": {},
   "outputs": [
    {
     "data": {
      "text/plain": [
       "19-element Vector{Tuple{Int64, Int64}}:\n",
       " (5, 1)\n",
       " (6, 3)\n",
       " (10, 6)\n",
       " (3, 1)\n",
       " (9, 16)\n",
       " (16, 13)\n",
       " (0, 6)\n",
       " (13, 7)\n",
       " (7, 6)\n",
       " (7, 11)\n",
       " (13, 10)\n",
       " (0, 11)\n",
       " (16, 4)\n",
       " (9, 1)\n",
       " (3, 16)\n",
       " (10, 11)\n",
       " (6, 14)\n",
       " (5, 16)\n",
       " (-1, -1)"
      ]
     },
     "execution_count": 261,
     "metadata": {},
     "output_type": "execute_result"
    }
   ],
   "source": [
    "push!(lis_gf, (-1,-1)) \n",
    "#Se anexa este último punto al grupo para emular el punto infinito"
   ]
  },
  {
   "cell_type": "code",
   "execution_count": 266,
   "id": "78b5bb69",
   "metadata": {},
   "outputs": [],
   "source": [
    "using Plots"
   ]
  },
  {
   "cell_type": "code",
   "execution_count": 278,
   "id": "c579f7cb",
   "metadata": {},
   "outputs": [
    {
     "data": {
      "image/png": "[encoded data removed]",
      "image/svg+xml": [
       "<?xml version=\"1.0\" encoding=\"utf-8\"?>\n",
       "<svg xmlns=\"http://www.w3.org/2000/svg\" xmlns:xlink=\"http://www.w3.org/1999/xlink\" width=\"600\" height=\"400\" viewBox=\"0 0 2400 1600\">\n",
       "<defs>\n",
       "  <clipPath id=\"clip410\">\n",
       "    <rect x=\"0\" y=\"0\" width=\"2400\" height=\"1600\"/>\n",
       "  </clipPath>\n",
       "</defs>\n",
       "<path clip-path=\"url(#clip410)\" d=\"M0 1600 L2400 1600 L2400 0 L0 0  Z\" fill=\"#ffffff\" fill-rule=\"evenodd\" fill-opacity=\"1\"/>\n",
       "<defs>\n",
       "  <clipPath id=\"clip411\">\n",
       "    <rect x=\"480\" y=\"0\" width=\"1681\" height=\"1600\"/>\n",
       "  </clipPath>\n",
       "</defs>\n",
       "<path clip-path=\"url(#clip410)\" d=\"M137.964 1486.45 L2352.76 1486.45 L2352.76 47.2441 L137.964 47.2441  Z\" fill=\"#ffffff\" fill-rule=\"evenodd\" fill-opacity=\"1\"/>\n",
       "<defs>\n",
       "  <clipPath id=\"clip412\">\n",
       "    <rect x=\"137\" y=\"47\" width=\"2216\" height=\"1440\"/>\n",
       "  </clipPath>\n",
       "</defs>\n",
       "<polyline clip-path=\"url(#clip412)\" style=\"stroke:#000000; stroke-linecap:round; stroke-linejoin:round; stroke-width:2; stroke-opacity:0.1; fill:none\" points=\"200.647,1486.45 200.647,47.2441 \"/>\n",
       "<polyline clip-path=\"url(#clip412)\" style=\"stroke:#000000; stroke-linecap:round; stroke-linejoin:round; stroke-width:2; stroke-opacity:0.1; fill:none\" points=\"853.593,1486.45 853.593,47.2441 \"/>\n",
       "<polyline clip-path=\"url(#clip412)\" style=\"stroke:#000000; stroke-linecap:round; stroke-linejoin:round; stroke-width:2; stroke-opacity:0.1; fill:none\" points=\"1506.54,1486.45 1506.54,47.2441 \"/>\n",
       "<polyline clip-path=\"url(#clip412)\" style=\"stroke:#000000; stroke-linecap:round; stroke-linejoin:round; stroke-width:2; stroke-opacity:0.1; fill:none\" points=\"2159.48,1486.45 2159.48,47.2441 \"/>\n",
       "<polyline clip-path=\"url(#clip410)\" style=\"stroke:#000000; stroke-linecap:round; stroke-linejoin:round; stroke-width:4; stroke-opacity:1; fill:none\" points=\"137.964,1486.45 2352.76,1486.45 \"/>\n",
       "<polyline clip-path=\"url(#clip410)\" style=\"stroke:#000000; stroke-linecap:round; stroke-linejoin:round; stroke-width:4; stroke-opacity:1; fill:none\" points=\"200.647,1486.45 200.647,1467.55 \"/>\n",
       "<polyline clip-path=\"url(#clip410)\" style=\"stroke:#000000; stroke-linecap:round; stroke-linejoin:round; stroke-width:4; stroke-opacity:1; fill:none\" points=\"853.593,1486.45 853.593,1467.55 \"/>\n",
       "<polyline clip-path=\"url(#clip410)\" style=\"stroke:#000000; stroke-linecap:round; stroke-linejoin:round; stroke-width:4; stroke-opacity:1; fill:none\" points=\"1506.54,1486.45 1506.54,1467.55 \"/>\n",
       "<polyline clip-path=\"url(#clip410)\" style=\"stroke:#000000; stroke-linecap:round; stroke-linejoin:round; stroke-width:4; stroke-opacity:1; fill:none\" points=\"2159.48,1486.45 2159.48,1467.55 \"/>\n",
       "<path clip-path=\"url(#clip410)\" d=\"M200.647 1517.37 Q197.036 1517.37 195.207 1520.93 Q193.402 1524.47 193.402 1531.6 Q193.402 1538.71 195.207 1542.27 Q197.036 1545.82 200.647 1545.82 Q204.281 1545.82 206.087 1542.27 Q207.915 1538.71 207.915 1531.6 Q207.915 1524.47 206.087 1520.93 Q204.281 1517.37 200.647 1517.37 M200.647 1513.66 Q206.457 1513.66 209.513 1518.27 Q212.591 1522.85 212.591 1531.6 Q212.591 1540.33 209.513 1544.94 Q206.457 1549.52 200.647 1549.52 Q194.837 1549.52 191.758 1544.94 Q188.702 1540.33 188.702 1531.6 Q188.702 1522.85 191.758 1518.27 Q194.837 1513.66 200.647 1513.66 Z\" fill=\"#000000\" fill-rule=\"nonzero\" fill-opacity=\"1\" /><path clip-path=\"url(#clip410)\" d=\"M843.87 1514.29 L862.227 1514.29 L862.227 1518.22 L848.153 1518.22 L848.153 1526.7 Q849.171 1526.35 850.19 1526.19 Q851.208 1526 852.227 1526 Q858.014 1526 861.393 1529.17 Q864.773 1532.34 864.773 1537.76 Q864.773 1543.34 861.301 1546.44 Q857.829 1549.52 851.509 1549.52 Q849.333 1549.52 847.065 1549.15 Q844.819 1548.78 842.412 1548.04 L842.412 1543.34 Q844.495 1544.47 846.718 1545.03 Q848.94 1545.58 851.417 1545.58 Q855.421 1545.58 857.759 1543.48 Q860.097 1541.37 860.097 1537.76 Q860.097 1534.15 857.759 1532.04 Q855.421 1529.94 851.417 1529.94 Q849.542 1529.94 847.667 1530.35 Q845.815 1530.77 843.87 1531.65 L843.87 1514.29 Z\" fill=\"#000000\" fill-rule=\"nonzero\" fill-opacity=\"1\" /><path clip-path=\"url(#clip410)\" d=\"M1481.23 1544.91 L1488.86 1544.91 L1488.86 1518.55 L1480.55 1520.21 L1480.55 1515.95 L1488.82 1514.29 L1493.49 1514.29 L1493.49 1544.91 L1501.13 1544.91 L1501.13 1548.85 L1481.23 1548.85 L1481.23 1544.91 Z\" fill=\"#000000\" fill-rule=\"nonzero\" fill-opacity=\"1\" /><path clip-path=\"url(#clip410)\" d=\"M1520.58 1517.37 Q1516.97 1517.37 1515.14 1520.93 Q1513.33 1524.47 1513.33 1531.6 Q1513.33 1538.71 1515.14 1542.27 Q1516.97 1545.82 1520.58 1545.82 Q1524.21 1545.82 1526.02 1542.27 Q1527.85 1538.71 1527.85 1531.6 Q1527.85 1524.47 1526.02 1520.93 Q1524.21 1517.37 1520.58 1517.37 M1520.58 1513.66 Q1526.39 1513.66 1529.44 1518.27 Q1532.52 1522.85 1532.52 1531.6 Q1532.52 1540.33 1529.44 1544.94 Q1526.39 1549.52 1520.58 1549.52 Q1514.77 1549.52 1511.69 1544.94 Q1508.63 1540.33 1508.63 1531.6 Q1508.63 1522.85 1511.69 1518.27 Q1514.77 1513.66 1520.58 1513.66 Z\" fill=\"#000000\" fill-rule=\"nonzero\" fill-opacity=\"1\" /><path clip-path=\"url(#clip410)\" d=\"M2134.67 1544.91 L2142.31 1544.91 L2142.31 1518.55 L2134 1520.21 L2134 1515.95 L2142.26 1514.29 L2146.94 1514.29 L2146.94 1544.91 L2154.58 1544.91 L2154.58 1548.85 L2134.67 1548.85 L2134.67 1544.91 Z\" fill=\"#000000\" fill-rule=\"nonzero\" fill-opacity=\"1\" /><path clip-path=\"url(#clip410)\" d=\"M2164.07 1514.29 L2182.42 1514.29 L2182.42 1518.22 L2168.35 1518.22 L2168.35 1526.7 Q2169.37 1526.35 2170.39 1526.19 Q2171.41 1526 2172.42 1526 Q2178.21 1526 2181.59 1529.17 Q2184.97 1532.34 2184.97 1537.76 Q2184.97 1543.34 2181.5 1546.44 Q2178.03 1549.52 2171.71 1549.52 Q2169.53 1549.52 2167.26 1549.15 Q2165.02 1548.78 2162.61 1548.04 L2162.61 1543.34 Q2164.69 1544.47 2166.91 1545.03 Q2169.14 1545.58 2171.61 1545.58 Q2175.62 1545.58 2177.96 1543.48 Q2180.29 1541.37 2180.29 1537.76 Q2180.29 1534.15 2177.96 1532.04 Q2175.62 1529.94 2171.61 1529.94 Q2169.74 1529.94 2167.86 1530.35 Q2166.01 1530.77 2164.07 1531.65 L2164.07 1514.29 Z\" fill=\"#000000\" fill-rule=\"nonzero\" fill-opacity=\"1\" /><polyline clip-path=\"url(#clip412)\" style=\"stroke:#000000; stroke-linecap:round; stroke-linejoin:round; stroke-width:2; stroke-opacity:0.1; fill:none\" points=\"137.964,1264.68 2352.76,1264.68 \"/>\n",
       "<polyline clip-path=\"url(#clip412)\" style=\"stroke:#000000; stroke-linecap:round; stroke-linejoin:round; stroke-width:2; stroke-opacity:0.1; fill:none\" points=\"137.964,993.136 2352.76,993.136 \"/>\n",
       "<polyline clip-path=\"url(#clip412)\" style=\"stroke:#000000; stroke-linecap:round; stroke-linejoin:round; stroke-width:2; stroke-opacity:0.1; fill:none\" points=\"137.964,721.588 2352.76,721.588 \"/>\n",
       "<polyline clip-path=\"url(#clip412)\" style=\"stroke:#000000; stroke-linecap:round; stroke-linejoin:round; stroke-width:2; stroke-opacity:0.1; fill:none\" points=\"137.964,450.04 2352.76,450.04 \"/>\n",
       "<polyline clip-path=\"url(#clip412)\" style=\"stroke:#000000; stroke-linecap:round; stroke-linejoin:round; stroke-width:2; stroke-opacity:0.1; fill:none\" points=\"137.964,178.492 2352.76,178.492 \"/>\n",
       "<polyline clip-path=\"url(#clip410)\" style=\"stroke:#000000; stroke-linecap:round; stroke-linejoin:round; stroke-width:4; stroke-opacity:1; fill:none\" points=\"137.964,1486.45 137.964,47.2441 \"/>\n",
       "<polyline clip-path=\"url(#clip410)\" style=\"stroke:#000000; stroke-linecap:round; stroke-linejoin:round; stroke-width:4; stroke-opacity:1; fill:none\" points=\"137.964,1264.68 156.862,1264.68 \"/>\n",
       "<polyline clip-path=\"url(#clip410)\" style=\"stroke:#000000; stroke-linecap:round; stroke-linejoin:round; stroke-width:4; stroke-opacity:1; fill:none\" points=\"137.964,993.136 156.862,993.136 \"/>\n",
       "<polyline clip-path=\"url(#clip410)\" style=\"stroke:#000000; stroke-linecap:round; stroke-linejoin:round; stroke-width:4; stroke-opacity:1; fill:none\" points=\"137.964,721.588 156.862,721.588 \"/>\n",
       "<polyline clip-path=\"url(#clip410)\" style=\"stroke:#000000; stroke-linecap:round; stroke-linejoin:round; stroke-width:4; stroke-opacity:1; fill:none\" points=\"137.964,450.04 156.862,450.04 \"/>\n",
       "<polyline clip-path=\"url(#clip410)\" style=\"stroke:#000000; stroke-linecap:round; stroke-linejoin:round; stroke-width:4; stroke-opacity:1; fill:none\" points=\"137.964,178.492 156.862,178.492 \"/>\n",
       "<path clip-path=\"url(#clip410)\" d=\"M94.8345 1263.33 Q98.1909 1264.05 100.066 1266.32 Q101.964 1268.58 101.964 1271.92 Q101.964 1277.03 98.4456 1279.83 Q94.9271 1282.64 88.4456 1282.64 Q86.2697 1282.64 83.9549 1282.2 Q81.6633 1281.78 79.2096 1280.92 L79.2096 1276.41 Q81.154 1277.54 83.4688 1278.12 Q85.7836 1278.7 88.3067 1278.7 Q92.7049 1278.7 94.9965 1276.96 Q97.3113 1275.23 97.3113 1271.92 Q97.3113 1268.86 95.1586 1267.15 Q93.0289 1265.41 89.2095 1265.41 L85.1818 1265.41 L85.1818 1261.57 L89.3947 1261.57 Q92.8438 1261.57 94.6724 1260.2 Q96.5011 1258.82 96.5011 1256.22 Q96.5011 1253.56 94.603 1252.15 Q92.728 1250.71 89.2095 1250.71 Q87.2882 1250.71 85.0892 1251.13 Q82.8901 1251.55 80.2512 1252.43 L80.2512 1248.26 Q82.9133 1247.52 85.2281 1247.15 Q87.566 1246.78 89.6262 1246.78 Q94.9502 1246.78 98.0521 1249.21 Q101.154 1251.62 101.154 1255.74 Q101.154 1258.61 99.5104 1260.6 Q97.8669 1262.57 94.8345 1263.33 Z\" fill=\"#000000\" fill-rule=\"nonzero\" fill-opacity=\"1\" /><path clip-path=\"url(#clip410)\" d=\"M90.4364 991.272 Q87.2882 991.272 85.4364 993.425 Q83.6077 995.578 83.6077 999.328 Q83.6077 1003.05 85.4364 1005.23 Q87.2882 1007.38 90.4364 1007.38 Q93.5845 1007.38 95.4132 1005.23 Q97.265 1003.05 97.265 999.328 Q97.265 995.578 95.4132 993.425 Q93.5845 991.272 90.4364 991.272 M99.7187 976.62 L99.7187 980.879 Q97.9595 980.046 96.1539 979.606 Q94.3715 979.166 92.6123 979.166 Q87.9827 979.166 85.529 982.291 Q83.0984 985.416 82.7512 991.735 Q84.1169 989.722 86.1771 988.657 Q88.2373 987.569 90.7141 987.569 Q95.9224 987.569 98.9317 990.74 Q101.964 993.888 101.964 999.328 Q101.964 1004.65 98.8159 1007.87 Q95.6678 1011.09 90.4364 1011.09 Q84.441 1011.09 81.2697 1006.5 Q78.0985 1001.9 78.0985 993.171 Q78.0985 984.976 81.9873 980.115 Q85.8762 975.231 92.4271 975.231 Q94.1863 975.231 95.9687 975.578 Q97.7743 975.925 99.7187 976.62 Z\" fill=\"#000000\" fill-rule=\"nonzero\" fill-opacity=\"1\" /><path clip-path=\"url(#clip410)\" d=\"M80.3438 738.15 L80.3438 733.891 Q82.1031 734.725 83.9086 735.164 Q85.7142 735.604 87.4503 735.604 Q92.0799 735.604 94.5104 732.502 Q96.9641 729.377 97.3113 723.035 Q95.9687 725.025 93.9086 726.09 Q91.8484 727.155 89.3484 727.155 Q84.1632 727.155 81.1309 724.03 Q78.1216 720.882 78.1216 715.442 Q78.1216 710.118 81.2697 706.901 Q84.4179 703.683 89.6493 703.683 Q95.6447 703.683 98.7928 708.289 Q101.964 712.873 101.964 721.623 Q101.964 729.794 98.0752 734.678 Q94.2095 739.539 87.6586 739.539 Q85.8993 739.539 84.0938 739.192 Q82.2883 738.845 80.3438 738.15 M89.6493 723.498 Q92.7975 723.498 94.6262 721.345 Q96.478 719.192 96.478 715.442 Q96.478 711.715 94.6262 709.563 Q92.7975 707.387 89.6493 707.387 Q86.5012 707.387 84.6494 709.563 Q82.8207 711.715 82.8207 715.442 Q82.8207 719.192 84.6494 721.345 Q86.5012 723.498 89.6493 723.498 Z\" fill=\"#000000\" fill-rule=\"nonzero\" fill-opacity=\"1\" /><path clip-path=\"url(#clip410)\" d=\"M52.2653 463.385 L59.9041 463.385 L59.9041 437.019 L51.594 438.686 L51.594 434.427 L59.8578 432.76 L64.5337 432.76 L64.5337 463.385 L72.1726 463.385 L72.1726 467.32 L52.2653 467.32 L52.2653 463.385 Z\" fill=\"#000000\" fill-rule=\"nonzero\" fill-opacity=\"1\" /><path clip-path=\"url(#clip410)\" d=\"M85.6447 463.385 L101.964 463.385 L101.964 467.32 L80.0197 467.32 L80.0197 463.385 Q82.6818 460.63 87.2651 456.001 Q91.8715 451.348 93.0521 450.005 Q95.2974 447.482 96.1771 445.746 Q97.0798 443.987 97.0798 442.297 Q97.0798 439.542 95.1354 437.806 Q93.2141 436.07 90.1123 436.07 Q87.9132 436.07 85.4595 436.834 Q83.029 437.598 80.2512 439.149 L80.2512 434.427 Q83.0753 433.293 85.529 432.714 Q87.9827 432.135 90.0197 432.135 Q95.39 432.135 98.5845 434.82 Q101.779 437.505 101.779 441.996 Q101.779 444.126 100.969 446.047 Q100.182 447.945 98.0752 450.538 Q97.4965 451.209 94.3947 454.427 Q91.2928 457.621 85.6447 463.385 Z\" fill=\"#000000\" fill-rule=\"nonzero\" fill-opacity=\"1\" /><path clip-path=\"url(#clip410)\" d=\"M51.6634 191.837 L59.3023 191.837 L59.3023 165.471 L50.9921 167.138 L50.9921 162.879 L59.256 161.212 L63.9319 161.212 L63.9319 191.837 L71.5707 191.837 L71.5707 195.772 L51.6634 195.772 L51.6634 191.837 Z\" fill=\"#000000\" fill-rule=\"nonzero\" fill-opacity=\"1\" /><path clip-path=\"url(#clip410)\" d=\"M81.0614 161.212 L99.4178 161.212 L99.4178 165.147 L85.3438 165.147 L85.3438 173.62 Q86.3623 173.272 87.3808 173.11 Q88.3993 172.925 89.4178 172.925 Q95.2049 172.925 98.5845 176.096 Q101.964 179.268 101.964 184.684 Q101.964 190.263 98.4919 193.365 Q95.0197 196.444 88.7003 196.444 Q86.5243 196.444 84.2558 196.073 Q82.0105 195.703 79.6031 194.962 L79.6031 190.263 Q81.6864 191.397 83.9086 191.953 Q86.1308 192.508 88.6077 192.508 Q92.6123 192.508 94.9502 190.402 Q97.2882 188.295 97.2882 184.684 Q97.2882 181.073 94.9502 178.967 Q92.6123 176.86 88.6077 176.86 Q86.7327 176.86 84.8577 177.277 Q83.0058 177.694 81.0614 178.573 L81.0614 161.212 Z\" fill=\"#000000\" fill-rule=\"nonzero\" fill-opacity=\"1\" /><circle clip-path=\"url(#clip412)\" cx=\"853.593\" cy=\"1445.72\" r=\"14.4\" fill=\"#008000\" fill-rule=\"evenodd\" fill-opacity=\"1\" stroke=\"#000000\" stroke-opacity=\"1\" stroke-width=\"3.2\"/>\n",
       "<circle clip-path=\"url(#clip412)\" cx=\"984.182\" cy=\"1264.68\" r=\"14.4\" fill=\"#008000\" fill-rule=\"evenodd\" fill-opacity=\"1\" stroke=\"#000000\" stroke-opacity=\"1\" stroke-width=\"3.2\"/>\n",
       "<circle clip-path=\"url(#clip412)\" cx=\"1506.54\" cy=\"993.136\" r=\"14.4\" fill=\"#008000\" fill-rule=\"evenodd\" fill-opacity=\"1\" stroke=\"#000000\" stroke-opacity=\"1\" stroke-width=\"3.2\"/>\n",
       "<circle clip-path=\"url(#clip412)\" cx=\"592.414\" cy=\"1445.72\" r=\"14.4\" fill=\"#008000\" fill-rule=\"evenodd\" fill-opacity=\"1\" stroke=\"#000000\" stroke-opacity=\"1\" stroke-width=\"3.2\"/>\n",
       "<circle clip-path=\"url(#clip412)\" cx=\"1375.95\" cy=\"87.9763\" r=\"14.4\" fill=\"#008000\" fill-rule=\"evenodd\" fill-opacity=\"1\" stroke=\"#000000\" stroke-opacity=\"1\" stroke-width=\"3.2\"/>\n",
       "<circle clip-path=\"url(#clip412)\" cx=\"2290.07\" cy=\"359.524\" r=\"14.4\" fill=\"#008000\" fill-rule=\"evenodd\" fill-opacity=\"1\" stroke=\"#000000\" stroke-opacity=\"1\" stroke-width=\"3.2\"/>\n",
       "<circle clip-path=\"url(#clip412)\" cx=\"200.647\" cy=\"993.136\" r=\"14.4\" fill=\"#008000\" fill-rule=\"evenodd\" fill-opacity=\"1\" stroke=\"#000000\" stroke-opacity=\"1\" stroke-width=\"3.2\"/>\n",
       "<circle clip-path=\"url(#clip412)\" cx=\"1898.31\" cy=\"902.62\" r=\"14.4\" fill=\"#008000\" fill-rule=\"evenodd\" fill-opacity=\"1\" stroke=\"#000000\" stroke-opacity=\"1\" stroke-width=\"3.2\"/>\n",
       "<circle clip-path=\"url(#clip412)\" cx=\"1114.77\" cy=\"993.136\" r=\"14.4\" fill=\"#008000\" fill-rule=\"evenodd\" fill-opacity=\"1\" stroke=\"#000000\" stroke-opacity=\"1\" stroke-width=\"3.2\"/>\n",
       "<circle clip-path=\"url(#clip412)\" cx=\"1114.77\" cy=\"540.556\" r=\"14.4\" fill=\"#008000\" fill-rule=\"evenodd\" fill-opacity=\"1\" stroke=\"#000000\" stroke-opacity=\"1\" stroke-width=\"3.2\"/>\n",
       "<circle clip-path=\"url(#clip412)\" cx=\"1898.31\" cy=\"631.072\" r=\"14.4\" fill=\"#008000\" fill-rule=\"evenodd\" fill-opacity=\"1\" stroke=\"#000000\" stroke-opacity=\"1\" stroke-width=\"3.2\"/>\n",
       "<circle clip-path=\"url(#clip412)\" cx=\"200.647\" cy=\"540.556\" r=\"14.4\" fill=\"#008000\" fill-rule=\"evenodd\" fill-opacity=\"1\" stroke=\"#000000\" stroke-opacity=\"1\" stroke-width=\"3.2\"/>\n",
       "<circle clip-path=\"url(#clip412)\" cx=\"2290.07\" cy=\"1174.17\" r=\"14.4\" fill=\"#008000\" fill-rule=\"evenodd\" fill-opacity=\"1\" stroke=\"#000000\" stroke-opacity=\"1\" stroke-width=\"3.2\"/>\n",
       "<circle clip-path=\"url(#clip412)\" cx=\"1375.95\" cy=\"1445.72\" r=\"14.4\" fill=\"#008000\" fill-rule=\"evenodd\" fill-opacity=\"1\" stroke=\"#000000\" stroke-opacity=\"1\" stroke-width=\"3.2\"/>\n",
       "<circle clip-path=\"url(#clip412)\" cx=\"592.414\" cy=\"87.9763\" r=\"14.4\" fill=\"#008000\" fill-rule=\"evenodd\" fill-opacity=\"1\" stroke=\"#000000\" stroke-opacity=\"1\" stroke-width=\"3.2\"/>\n",
       "<circle clip-path=\"url(#clip412)\" cx=\"1506.54\" cy=\"540.556\" r=\"14.4\" fill=\"#008000\" fill-rule=\"evenodd\" fill-opacity=\"1\" stroke=\"#000000\" stroke-opacity=\"1\" stroke-width=\"3.2\"/>\n",
       "<circle clip-path=\"url(#clip412)\" cx=\"984.182\" cy=\"269.008\" r=\"14.4\" fill=\"#008000\" fill-rule=\"evenodd\" fill-opacity=\"1\" stroke=\"#000000\" stroke-opacity=\"1\" stroke-width=\"3.2\"/>\n",
       "<circle clip-path=\"url(#clip412)\" cx=\"853.593\" cy=\"87.9763\" r=\"14.4\" fill=\"#008000\" fill-rule=\"evenodd\" fill-opacity=\"1\" stroke=\"#000000\" stroke-opacity=\"1\" stroke-width=\"3.2\"/>\n",
       "</svg>\n"
      ],
      "text/html": [
       "<?xml version=\"1.0\" encoding=\"utf-8\"?>\n",
       "<svg xmlns=\"http://www.w3.org/2000/svg\" xmlns:xlink=\"http://www.w3.org/1999/xlink\" width=\"600\" height=\"400\" viewBox=\"0 0 2400 1600\">\n",
       "<defs>\n",
       "  <clipPath id=\"clip460\">\n",
       "    <rect x=\"0\" y=\"0\" width=\"2400\" height=\"1600\"/>\n",
       "  </clipPath>\n",
       "</defs>\n",
       "<path clip-path=\"url(#clip460)\" d=\"M0 1600 L2400 1600 L2400 0 L0 0  Z\" fill=\"#ffffff\" fill-rule=\"evenodd\" fill-opacity=\"1\"/>\n",
       "<defs>\n",
       "  <clipPath id=\"clip461\">\n",
       "    <rect x=\"480\" y=\"0\" width=\"1681\" height=\"1600\"/>\n",
       "  </clipPath>\n",
       "</defs>\n",
       "<path clip-path=\"url(#clip460)\" d=\"M137.964 1486.45 L2352.76 1486.45 L2352.76 47.2441 L137.964 47.2441  Z\" fill=\"#ffffff\" fill-rule=\"evenodd\" fill-opacity=\"1\"/>\n",
       "<defs>\n",
       "  <clipPath id=\"clip462\">\n",
       "    <rect x=\"137\" y=\"47\" width=\"2216\" height=\"1440\"/>\n",
       "  </clipPath>\n",
       "</defs>\n",
       "<polyline clip-path=\"url(#clip462)\" style=\"stroke:#000000; stroke-linecap:round; stroke-linejoin:round; stroke-width:2; stroke-opacity:0.1; fill:none\" points=\"200.647,1486.45 200.647,47.2441 \"/>\n",
       "<polyline clip-path=\"url(#clip462)\" style=\"stroke:#000000; stroke-linecap:round; stroke-linejoin:round; stroke-width:2; stroke-opacity:0.1; fill:none\" points=\"853.593,1486.45 853.593,47.2441 \"/>\n",
       "<polyline clip-path=\"url(#clip462)\" style=\"stroke:#000000; stroke-linecap:round; stroke-linejoin:round; stroke-width:2; stroke-opacity:0.1; fill:none\" points=\"1506.54,1486.45 1506.54,47.2441 \"/>\n",
       "<polyline clip-path=\"url(#clip462)\" style=\"stroke:#000000; stroke-linecap:round; stroke-linejoin:round; stroke-width:2; stroke-opacity:0.1; fill:none\" points=\"2159.48,1486.45 2159.48,47.2441 \"/>\n",
       "<polyline clip-path=\"url(#clip460)\" style=\"stroke:#000000; stroke-linecap:round; stroke-linejoin:round; stroke-width:4; stroke-opacity:1; fill:none\" points=\"137.964,1486.45 2352.76,1486.45 \"/>\n",
       "<polyline clip-path=\"url(#clip460)\" style=\"stroke:#000000; stroke-linecap:round; stroke-linejoin:round; stroke-width:4; stroke-opacity:1; fill:none\" points=\"200.647,1486.45 200.647,1467.55 \"/>\n",
       "<polyline clip-path=\"url(#clip460)\" style=\"stroke:#000000; stroke-linecap:round; stroke-linejoin:round; stroke-width:4; stroke-opacity:1; fill:none\" points=\"853.593,1486.45 853.593,1467.55 \"/>\n",
       "<polyline clip-path=\"url(#clip460)\" style=\"stroke:#000000; stroke-linecap:round; stroke-linejoin:round; stroke-width:4; stroke-opacity:1; fill:none\" points=\"1506.54,1486.45 1506.54,1467.55 \"/>\n",
       "<polyline clip-path=\"url(#clip460)\" style=\"stroke:#000000; stroke-linecap:round; stroke-linejoin:round; stroke-width:4; stroke-opacity:1; fill:none\" points=\"2159.48,1486.45 2159.48,1467.55 \"/>\n",
       "<path clip-path=\"url(#clip460)\" d=\"M200.647 1517.37 Q197.036 1517.37 195.207 1520.93 Q193.402 1524.47 193.402 1531.6 Q193.402 1538.71 195.207 1542.27 Q197.036 1545.82 200.647 1545.82 Q204.281 1545.82 206.087 1542.27 Q207.915 1538.71 207.915 1531.6 Q207.915 1524.47 206.087 1520.93 Q204.281 1517.37 200.647 1517.37 M200.647 1513.66 Q206.457 1513.66 209.513 1518.27 Q212.591 1522.85 212.591 1531.6 Q212.591 1540.33 209.513 1544.94 Q206.457 1549.52 200.647 1549.52 Q194.837 1549.52 191.758 1544.94 Q188.702 1540.33 188.702 1531.6 Q188.702 1522.85 191.758 1518.27 Q194.837 1513.66 200.647 1513.66 Z\" fill=\"#000000\" fill-rule=\"nonzero\" fill-opacity=\"1\" /><path clip-path=\"url(#clip460)\" d=\"M843.87 1514.29 L862.227 1514.29 L862.227 1518.22 L848.153 1518.22 L848.153 1526.7 Q849.171 1526.35 850.19 1526.19 Q851.208 1526 852.227 1526 Q858.014 1526 861.393 1529.17 Q864.773 1532.34 864.773 1537.76 Q864.773 1543.34 861.301 1546.44 Q857.829 1549.52 851.509 1549.52 Q849.333 1549.52 847.065 1549.15 Q844.819 1548.78 842.412 1548.04 L842.412 1543.34 Q844.495 1544.47 846.718 1545.03 Q848.94 1545.58 851.417 1545.58 Q855.421 1545.58 857.759 1543.48 Q860.097 1541.37 860.097 1537.76 Q860.097 1534.15 857.759 1532.04 Q855.421 1529.94 851.417 1529.94 Q849.542 1529.94 847.667 1530.35 Q845.815 1530.77 843.87 1531.65 L843.87 1514.29 Z\" fill=\"#000000\" fill-rule=\"nonzero\" fill-opacity=\"1\" /><path clip-path=\"url(#clip460)\" d=\"M1481.23 1544.91 L1488.86 1544.91 L1488.86 1518.55 L1480.55 1520.21 L1480.55 1515.95 L1488.82 1514.29 L1493.49 1514.29 L1493.49 1544.91 L1501.13 1544.91 L1501.13 1548.85 L1481.23 1548.85 L1481.23 1544.91 Z\" fill=\"#000000\" fill-rule=\"nonzero\" fill-opacity=\"1\" /><path clip-path=\"url(#clip460)\" d=\"M1520.58 1517.37 Q1516.97 1517.37 1515.14 1520.93 Q1513.33 1524.47 1513.33 1531.6 Q1513.33 1538.71 1515.14 1542.27 Q1516.97 1545.82 1520.58 1545.82 Q1524.21 1545.82 1526.02 1542.27 Q1527.85 1538.71 1527.85 1531.6 Q1527.85 1524.47 1526.02 1520.93 Q1524.21 1517.37 1520.58 1517.37 M1520.58 1513.66 Q1526.39 1513.66 1529.44 1518.27 Q1532.52 1522.85 1532.52 1531.6 Q1532.52 1540.33 1529.44 1544.94 Q1526.39 1549.52 1520.58 1549.52 Q1514.77 1549.52 1511.69 1544.94 Q1508.63 1540.33 1508.63 1531.6 Q1508.63 1522.85 1511.69 1518.27 Q1514.77 1513.66 1520.58 1513.66 Z\" fill=\"#000000\" fill-rule=\"nonzero\" fill-opacity=\"1\" /><path clip-path=\"url(#clip460)\" d=\"M2134.67 1544.91 L2142.31 1544.91 L2142.31 1518.55 L2134 1520.21 L2134 1515.95 L2142.26 1514.29 L2146.94 1514.29 L2146.94 1544.91 L2154.58 1544.91 L2154.58 1548.85 L2134.67 1548.85 L2134.67 1544.91 Z\" fill=\"#000000\" fill-rule=\"nonzero\" fill-opacity=\"1\" /><path clip-path=\"url(#clip460)\" d=\"M2164.07 1514.29 L2182.42 1514.29 L2182.42 1518.22 L2168.35 1518.22 L2168.35 1526.7 Q2169.37 1526.35 2170.39 1526.19 Q2171.41 1526 2172.42 1526 Q2178.21 1526 2181.59 1529.17 Q2184.97 1532.34 2184.97 1537.76 Q2184.97 1543.34 2181.5 1546.44 Q2178.03 1549.52 2171.71 1549.52 Q2169.53 1549.52 2167.26 1549.15 Q2165.02 1548.78 2162.61 1548.04 L2162.61 1543.34 Q2164.69 1544.47 2166.91 1545.03 Q2169.14 1545.58 2171.61 1545.58 Q2175.62 1545.58 2177.96 1543.48 Q2180.29 1541.37 2180.29 1537.76 Q2180.29 1534.15 2177.96 1532.04 Q2175.62 1529.94 2171.61 1529.94 Q2169.74 1529.94 2167.86 1530.35 Q2166.01 1530.77 2164.07 1531.65 L2164.07 1514.29 Z\" fill=\"#000000\" fill-rule=\"nonzero\" fill-opacity=\"1\" /><polyline clip-path=\"url(#clip462)\" style=\"stroke:#000000; stroke-linecap:round; stroke-linejoin:round; stroke-width:2; stroke-opacity:0.1; fill:none\" points=\"137.964,1264.68 2352.76,1264.68 \"/>\n",
       "<polyline clip-path=\"url(#clip462)\" style=\"stroke:#000000; stroke-linecap:round; stroke-linejoin:round; stroke-width:2; stroke-opacity:0.1; fill:none\" points=\"137.964,993.136 2352.76,993.136 \"/>\n",
       "<polyline clip-path=\"url(#clip462)\" style=\"stroke:#000000; stroke-linecap:round; stroke-linejoin:round; stroke-width:2; stroke-opacity:0.1; fill:none\" points=\"137.964,721.588 2352.76,721.588 \"/>\n",
       "<polyline clip-path=\"url(#clip462)\" style=\"stroke:#000000; stroke-linecap:round; stroke-linejoin:round; stroke-width:2; stroke-opacity:0.1; fill:none\" points=\"137.964,450.04 2352.76,450.04 \"/>\n",
       "<polyline clip-path=\"url(#clip462)\" style=\"stroke:#000000; stroke-linecap:round; stroke-linejoin:round; stroke-width:2; stroke-opacity:0.1; fill:none\" points=\"137.964,178.492 2352.76,178.492 \"/>\n",
       "<polyline clip-path=\"url(#clip460)\" style=\"stroke:#000000; stroke-linecap:round; stroke-linejoin:round; stroke-width:4; stroke-opacity:1; fill:none\" points=\"137.964,1486.45 137.964,47.2441 \"/>\n",
       "<polyline clip-path=\"url(#clip460)\" style=\"stroke:#000000; stroke-linecap:round; stroke-linejoin:round; stroke-width:4; stroke-opacity:1; fill:none\" points=\"137.964,1264.68 156.862,1264.68 \"/>\n",
       "<polyline clip-path=\"url(#clip460)\" style=\"stroke:#000000; stroke-linecap:round; stroke-linejoin:round; stroke-width:4; stroke-opacity:1; fill:none\" points=\"137.964,993.136 156.862,993.136 \"/>\n",
       "<polyline clip-path=\"url(#clip460)\" style=\"stroke:#000000; stroke-linecap:round; stroke-linejoin:round; stroke-width:4; stroke-opacity:1; fill:none\" points=\"137.964,721.588 156.862,721.588 \"/>\n",
       "<polyline clip-path=\"url(#clip460)\" style=\"stroke:#000000; stroke-linecap:round; stroke-linejoin:round; stroke-width:4; stroke-opacity:1; fill:none\" points=\"137.964,450.04 156.862,450.04 \"/>\n",
       "<polyline clip-path=\"url(#clip460)\" style=\"stroke:#000000; stroke-linecap:round; stroke-linejoin:round; stroke-width:4; stroke-opacity:1; fill:none\" points=\"137.964,178.492 156.862,178.492 \"/>\n",
       "<path clip-path=\"url(#clip460)\" d=\"M94.8345 1263.33 Q98.1909 1264.05 100.066 1266.32 Q101.964 1268.58 101.964 1271.92 Q101.964 1277.03 98.4456 1279.83 Q94.9271 1282.64 88.4456 1282.64 Q86.2697 1282.64 83.9549 1282.2 Q81.6633 1281.78 79.2096 1280.92 L79.2096 1276.41 Q81.154 1277.54 83.4688 1278.12 Q85.7836 1278.7 88.3067 1278.7 Q92.7049 1278.7 94.9965 1276.96 Q97.3113 1275.23 97.3113 1271.92 Q97.3113 1268.86 95.1586 1267.15 Q93.0289 1265.41 89.2095 1265.41 L85.1818 1265.41 L85.1818 1261.57 L89.3947 1261.57 Q92.8438 1261.57 94.6724 1260.2 Q96.5011 1258.82 96.5011 1256.22 Q96.5011 1253.56 94.603 1252.15 Q92.728 1250.71 89.2095 1250.71 Q87.2882 1250.71 85.0892 1251.13 Q82.8901 1251.55 80.2512 1252.43 L80.2512 1248.26 Q82.9133 1247.52 85.2281 1247.15 Q87.566 1246.78 89.6262 1246.78 Q94.9502 1246.78 98.0521 1249.21 Q101.154 1251.62 101.154 1255.74 Q101.154 1258.61 99.5104 1260.6 Q97.8669 1262.57 94.8345 1263.33 Z\" fill=\"#000000\" fill-rule=\"nonzero\" fill-opacity=\"1\" /><path clip-path=\"url(#clip460)\" d=\"M90.4364 991.272 Q87.2882 991.272 85.4364 993.425 Q83.6077 995.578 83.6077 999.328 Q83.6077 1003.05 85.4364 1005.23 Q87.2882 1007.38 90.4364 1007.38 Q93.5845 1007.38 95.4132 1005.23 Q97.265 1003.05 97.265 999.328 Q97.265 995.578 95.4132 993.425 Q93.5845 991.272 90.4364 991.272 M99.7187 976.62 L99.7187 980.879 Q97.9595 980.046 96.1539 979.606 Q94.3715 979.166 92.6123 979.166 Q87.9827 979.166 85.529 982.291 Q83.0984 985.416 82.7512 991.735 Q84.1169 989.722 86.1771 988.657 Q88.2373 987.569 90.7141 987.569 Q95.9224 987.569 98.9317 990.74 Q101.964 993.888 101.964 999.328 Q101.964 1004.65 98.8159 1007.87 Q95.6678 1011.09 90.4364 1011.09 Q84.441 1011.09 81.2697 1006.5 Q78.0985 1001.9 78.0985 993.171 Q78.0985 984.976 81.9873 980.115 Q85.8762 975.231 92.4271 975.231 Q94.1863 975.231 95.9687 975.578 Q97.7743 975.925 99.7187 976.62 Z\" fill=\"#000000\" fill-rule=\"nonzero\" fill-opacity=\"1\" /><path clip-path=\"url(#clip460)\" d=\"M80.3438 738.15 L80.3438 733.891 Q82.1031 734.725 83.9086 735.164 Q85.7142 735.604 87.4503 735.604 Q92.0799 735.604 94.5104 732.502 Q96.9641 729.377 97.3113 723.035 Q95.9687 725.025 93.9086 726.09 Q91.8484 727.155 89.3484 727.155 Q84.1632 727.155 81.1309 724.03 Q78.1216 720.882 78.1216 715.442 Q78.1216 710.118 81.2697 706.901 Q84.4179 703.683 89.6493 703.683 Q95.6447 703.683 98.7928 708.289 Q101.964 712.873 101.964 721.623 Q101.964 729.794 98.0752 734.678 Q94.2095 739.539 87.6586 739.539 Q85.8993 739.539 84.0938 739.192 Q82.2883 738.845 80.3438 738.15 M89.6493 723.498 Q92.7975 723.498 94.6262 721.345 Q96.478 719.192 96.478 715.442 Q96.478 711.715 94.6262 709.563 Q92.7975 707.387 89.6493 707.387 Q86.5012 707.387 84.6494 709.563 Q82.8207 711.715 82.8207 715.442 Q82.8207 719.192 84.6494 721.345 Q86.5012 723.498 89.6493 723.498 Z\" fill=\"#000000\" fill-rule=\"nonzero\" fill-opacity=\"1\" /><path clip-path=\"url(#clip460)\" d=\"M52.2653 463.385 L59.9041 463.385 L59.9041 437.019 L51.594 438.686 L51.594 434.427 L59.8578 432.76 L64.5337 432.76 L64.5337 463.385 L72.1726 463.385 L72.1726 467.32 L52.2653 467.32 L52.2653 463.385 Z\" fill=\"#000000\" fill-rule=\"nonzero\" fill-opacity=\"1\" /><path clip-path=\"url(#clip460)\" d=\"M85.6447 463.385 L101.964 463.385 L101.964 467.32 L80.0197 467.32 L80.0197 463.385 Q82.6818 460.63 87.2651 456.001 Q91.8715 451.348 93.0521 450.005 Q95.2974 447.482 96.1771 445.746 Q97.0798 443.987 97.0798 442.297 Q97.0798 439.542 95.1354 437.806 Q93.2141 436.07 90.1123 436.07 Q87.9132 436.07 85.4595 436.834 Q83.029 437.598 80.2512 439.149 L80.2512 434.427 Q83.0753 433.293 85.529 432.714 Q87.9827 432.135 90.0197 432.135 Q95.39 432.135 98.5845 434.82 Q101.779 437.505 101.779 441.996 Q101.779 444.126 100.969 446.047 Q100.182 447.945 98.0752 450.538 Q97.4965 451.209 94.3947 454.427 Q91.2928 457.621 85.6447 463.385 Z\" fill=\"#000000\" fill-rule=\"nonzero\" fill-opacity=\"1\" /><path clip-path=\"url(#clip460)\" d=\"M51.6634 191.837 L59.3023 191.837 L59.3023 165.471 L50.9921 167.138 L50.9921 162.879 L59.256 161.212 L63.9319 161.212 L63.9319 191.837 L71.5707 191.837 L71.5707 195.772 L51.6634 195.772 L51.6634 191.837 Z\" fill=\"#000000\" fill-rule=\"nonzero\" fill-opacity=\"1\" /><path clip-path=\"url(#clip460)\" d=\"M81.0614 161.212 L99.4178 161.212 L99.4178 165.147 L85.3438 165.147 L85.3438 173.62 Q86.3623 173.272 87.3808 173.11 Q88.3993 172.925 89.4178 172.925 Q95.2049 172.925 98.5845 176.096 Q101.964 179.268 101.964 184.684 Q101.964 190.263 98.4919 193.365 Q95.0197 196.444 88.7003 196.444 Q86.5243 196.444 84.2558 196.073 Q82.0105 195.703 79.6031 194.962 L79.6031 190.263 Q81.6864 191.397 83.9086 191.953 Q86.1308 192.508 88.6077 192.508 Q92.6123 192.508 94.9502 190.402 Q97.2882 188.295 97.2882 184.684 Q97.2882 181.073 94.9502 178.967 Q92.6123 176.86 88.6077 176.86 Q86.7327 176.86 84.8577 177.277 Q83.0058 177.694 81.0614 178.573 L81.0614 161.212 Z\" fill=\"#000000\" fill-rule=\"nonzero\" fill-opacity=\"1\" /><circle clip-path=\"url(#clip462)\" cx=\"853.593\" cy=\"1445.72\" r=\"14.4\" fill=\"#008000\" fill-rule=\"evenodd\" fill-opacity=\"1\" stroke=\"#000000\" stroke-opacity=\"1\" stroke-width=\"3.2\"/>\n",
       "<circle clip-path=\"url(#clip462)\" cx=\"984.182\" cy=\"1264.68\" r=\"14.4\" fill=\"#008000\" fill-rule=\"evenodd\" fill-opacity=\"1\" stroke=\"#000000\" stroke-opacity=\"1\" stroke-width=\"3.2\"/>\n",
       "<circle clip-path=\"url(#clip462)\" cx=\"1506.54\" cy=\"993.136\" r=\"14.4\" fill=\"#008000\" fill-rule=\"evenodd\" fill-opacity=\"1\" stroke=\"#000000\" stroke-opacity=\"1\" stroke-width=\"3.2\"/>\n",
       "<circle clip-path=\"url(#clip462)\" cx=\"592.414\" cy=\"1445.72\" r=\"14.4\" fill=\"#008000\" fill-rule=\"evenodd\" fill-opacity=\"1\" stroke=\"#000000\" stroke-opacity=\"1\" stroke-width=\"3.2\"/>\n",
       "<circle clip-path=\"url(#clip462)\" cx=\"1375.95\" cy=\"87.9763\" r=\"14.4\" fill=\"#008000\" fill-rule=\"evenodd\" fill-opacity=\"1\" stroke=\"#000000\" stroke-opacity=\"1\" stroke-width=\"3.2\"/>\n",
       "<circle clip-path=\"url(#clip462)\" cx=\"2290.07\" cy=\"359.524\" r=\"14.4\" fill=\"#008000\" fill-rule=\"evenodd\" fill-opacity=\"1\" stroke=\"#000000\" stroke-opacity=\"1\" stroke-width=\"3.2\"/>\n",
       "<circle clip-path=\"url(#clip462)\" cx=\"200.647\" cy=\"993.136\" r=\"14.4\" fill=\"#008000\" fill-rule=\"evenodd\" fill-opacity=\"1\" stroke=\"#000000\" stroke-opacity=\"1\" stroke-width=\"3.2\"/>\n",
       "<circle clip-path=\"url(#clip462)\" cx=\"1898.31\" cy=\"902.62\" r=\"14.4\" fill=\"#008000\" fill-rule=\"evenodd\" fill-opacity=\"1\" stroke=\"#000000\" stroke-opacity=\"1\" stroke-width=\"3.2\"/>\n",
       "<circle clip-path=\"url(#clip462)\" cx=\"1114.77\" cy=\"993.136\" r=\"14.4\" fill=\"#008000\" fill-rule=\"evenodd\" fill-opacity=\"1\" stroke=\"#000000\" stroke-opacity=\"1\" stroke-width=\"3.2\"/>\n",
       "<circle clip-path=\"url(#clip462)\" cx=\"1114.77\" cy=\"540.556\" r=\"14.4\" fill=\"#008000\" fill-rule=\"evenodd\" fill-opacity=\"1\" stroke=\"#000000\" stroke-opacity=\"1\" stroke-width=\"3.2\"/>\n",
       "<circle clip-path=\"url(#clip462)\" cx=\"1898.31\" cy=\"631.072\" r=\"14.4\" fill=\"#008000\" fill-rule=\"evenodd\" fill-opacity=\"1\" stroke=\"#000000\" stroke-opacity=\"1\" stroke-width=\"3.2\"/>\n",
       "<circle clip-path=\"url(#clip462)\" cx=\"200.647\" cy=\"540.556\" r=\"14.4\" fill=\"#008000\" fill-rule=\"evenodd\" fill-opacity=\"1\" stroke=\"#000000\" stroke-opacity=\"1\" stroke-width=\"3.2\"/>\n",
       "<circle clip-path=\"url(#clip462)\" cx=\"2290.07\" cy=\"1174.17\" r=\"14.4\" fill=\"#008000\" fill-rule=\"evenodd\" fill-opacity=\"1\" stroke=\"#000000\" stroke-opacity=\"1\" stroke-width=\"3.2\"/>\n",
       "<circle clip-path=\"url(#clip462)\" cx=\"1375.95\" cy=\"1445.72\" r=\"14.4\" fill=\"#008000\" fill-rule=\"evenodd\" fill-opacity=\"1\" stroke=\"#000000\" stroke-opacity=\"1\" stroke-width=\"3.2\"/>\n",
       "<circle clip-path=\"url(#clip462)\" cx=\"592.414\" cy=\"87.9763\" r=\"14.4\" fill=\"#008000\" fill-rule=\"evenodd\" fill-opacity=\"1\" stroke=\"#000000\" stroke-opacity=\"1\" stroke-width=\"3.2\"/>\n",
       "<circle clip-path=\"url(#clip462)\" cx=\"1506.54\" cy=\"540.556\" r=\"14.4\" fill=\"#008000\" fill-rule=\"evenodd\" fill-opacity=\"1\" stroke=\"#000000\" stroke-opacity=\"1\" stroke-width=\"3.2\"/>\n",
       "<circle clip-path=\"url(#clip462)\" cx=\"984.182\" cy=\"269.008\" r=\"14.4\" fill=\"#008000\" fill-rule=\"evenodd\" fill-opacity=\"1\" stroke=\"#000000\" stroke-opacity=\"1\" stroke-width=\"3.2\"/>\n",
       "<circle clip-path=\"url(#clip462)\" cx=\"853.593\" cy=\"87.9763\" r=\"14.4\" fill=\"#008000\" fill-rule=\"evenodd\" fill-opacity=\"1\" stroke=\"#000000\" stroke-opacity=\"1\" stroke-width=\"3.2\"/>\n",
       "</svg>\n"
      ]
     },
     "execution_count": 278,
     "metadata": {},
     "output_type": "execute_result"
    }
   ],
   "source": [
    "x = []\n",
    "y = []\n",
    "\n",
    "for p in lis_gf\n",
    "   append!(x,p[1])\n",
    "   append!(y,p[2]) \n",
    "end\n",
    "\n",
    "pop!(x)\n",
    "pop!(y)\n",
    "\n",
    "scatter(x,y, legend = false,markercolor = :green) # puntos"
   ]
  },
  {
   "cell_type": "code",
   "execution_count": 265,
   "id": "46dbc81d",
   "metadata": {},
   "outputs": [
    {
     "name": "stdout",
     "output_type": "stream",
     "text": [
      "->(5, 1)->(6, 3)->(10, 6)->(3, 1)->(9, 16)->(16, 13)->(0, 6)->(13, 7)->(7, 6)->(7, 11)->(13, 10)->(0, 11)->(16, 4)->(9, 1)->(3, 16)->(10, 11)->(6, 14)->(5, 16)->(-1, -1)->"
     ]
    }
   ],
   "source": [
    "print(\"->\")\n",
    "for i in 1:length(lis_gf)\n",
    "    print(lis_gf[i])\n",
    "    print(\"->\")\n",
    "end"
   ]
  },
  {
   "cell_type": "code",
   "execution_count": 241,
   "id": "cf909300",
   "metadata": {},
   "outputs": [
    {
     "name": "stdout",
     "output_type": "stream",
     "text": [
      "1\n",
      "2\n",
      "3\n",
      "4\n",
      "5\n",
      "6\n",
      "7\n",
      "8\n",
      "9\n",
      "10\n",
      "11\n",
      "12\n",
      "13\n",
      "14\n",
      "15\n",
      "16\n",
      "17\n",
      "18\n",
      "19\n",
      "1\n",
      "2\n",
      "3\n",
      "4\n",
      "5\n",
      "6\n",
      "7\n",
      "8\n",
      "9\n",
      "10\n",
      "11\n",
      "12\n",
      "13\n",
      "14\n",
      "15\n",
      "16\n",
      "17\n",
      "18\n",
      "19\n",
      "1\n",
      "2\n",
      "3\n"
     ]
    }
   ],
   "source": [
    "#=\n",
    "Mecanismo iterativo para obtener el punto del grupo cíclico para la firma digital\n",
    "=#\n",
    "\n",
    "d = 1\n",
    "\n",
    "for x in 1:41\n",
    "    print(d)\n",
    "    print(\"\\n\")\n",
    "    d = d + 1\n",
    "    if d%20 == 0\n",
    "        d = 1\n",
    "    end\n",
    "end"
   ]
  },
  {
   "cell_type": "markdown",
   "id": "2fdd95dc",
   "metadata": {},
   "source": [
    "# Comprobación del mecanismo de la firma digital"
   ]
  },
  {
   "attachments": {
    "image.png": {
     "image/png": "[encoded data removed]"
    }
   },
   "cell_type": "markdown",
   "id": "78883ae5",
   "metadata": {},
   "source": [
    "![image.png](attachment:image.png)"
   ]
  },
  {
   "cell_type": "code",
   "execution_count": null,
   "id": "d2b8ed56",
   "metadata": {},
   "outputs": [],
   "source": []
  }
 ],
 "metadata": {
  "kernelspec": {
   "display_name": "Julia 1.9.0",
   "language": "julia",
   "name": "julia-1.9"
  },
  "language_info": {
   "file_extension": ".jl",
   "mimetype": "application/julia",
   "name": "julia",
   "version": "1.9.0"
  }
 },
 "nbformat": 4,
 "nbformat_minor": 5
}
